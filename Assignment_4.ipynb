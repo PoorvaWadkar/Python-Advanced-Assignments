{
 "cells": [
  {
   "cell_type": "markdown",
   "id": "1e733eba-fa55-48e0-b782-d7887ddaa481",
   "metadata": {},
   "source": [
    "Q1. Which two operator overloading methods can you use in your classes to support iteration?"
   ]
  },
  {
   "cell_type": "markdown",
   "id": "028a808a-9be7-40f4-a2f5-c32b2d331ccb",
   "metadata": {},
   "source": [
    "To support iteration in classes in Python, we can implement two special methods: __iter__() and __next__(). \n",
    "These methods enable us to create iterable objects, which can be used in for loops and other iteration contexts. \n",
    "\n",
    "__iter__(): This method is called when we use the iter() function on an object or when we create an iterator using the object. It should return an iterator object, typically self. This iterator object should have a __next__() method defined to control the iteration.\n",
    "\n",
    "__next__(): This method is called to retrieve the next value in the iteration. It should raise the StopIteration exception when there are no more items to iterate through. The __next__() method is used to control the iteration state and return the next item in the sequence."
   ]
  },
  {
   "cell_type": "code",
   "execution_count": 6,
   "id": "5b5382c2-65b5-4331-b051-dd7a7f208aaa",
   "metadata": {},
   "outputs": [
    {
     "name": "stdout",
     "output_type": "stream",
     "text": [
      "1\n",
      "2\n",
      "3\n"
     ]
    }
   ],
   "source": [
    "class MyIterable:\n",
    "    def __init__(self, data):\n",
    "        self.data = data\n",
    "        self.index = 0\n",
    "\n",
    "    def __iter__(self):\n",
    "        return self\n",
    "\n",
    "    def __next__(self):\n",
    "        if self.index >= len(self.data):\n",
    "            raise StopIteration\n",
    "        value = self.data[self.index]\n",
    "        self.index += 1\n",
    "        return value\n",
    "\n",
    "#Usage:\n",
    "my_iterable = MyIterable([1, 2, 3])\n",
    "for item in my_iterable:\n",
    "    print(item)"
   ]
  },
  {
   "cell_type": "markdown",
   "id": "2323a681-4cc5-4e39-a364-e3e1e0c10b5d",
   "metadata": {},
   "source": [
    "Q2. In what contexts do the two operator overloading methods manage printing?"
   ]
  },
  {
   "cell_type": "markdown",
   "id": "80ec95e7-f53f-41a6-99a4-12ac2e3622bd",
   "metadata": {},
   "source": [
    "In Python, operator overloading methods, such as __str__() and __repr__(), manage the printing and string representation of objects in different contexts:\n",
    "\n",
    "__str__() Method:\n",
    "\n",
    "The __str__() method is used to define the \"informal\" or user-friendly string representation of an object.\n",
    "It is called by the built-in str() function and by the print() function when we attempt to print an object using print(obj).\n",
    "The primary purpose of __str__() is to provide a human-readable description of an object.\n",
    "This method is often used to generate a string that we want to display to end-users."
   ]
  },
  {
   "cell_type": "code",
   "execution_count": 7,
   "id": "ecab560d-6b24-484f-9f61-be6e4a6f33dd",
   "metadata": {},
   "outputs": [
    {
     "name": "stdout",
     "output_type": "stream",
     "text": [
      "MyClass instance with value: 42\n"
     ]
    }
   ],
   "source": [
    "class MyClass:\n",
    "    def __init__(self, value):\n",
    "        self.value = value\n",
    "\n",
    "    def __str__(self):\n",
    "        return f\"MyClass instance with value: {self.value}\"\n",
    "\n",
    "obj = MyClass(42)\n",
    "print(obj)  # Calls __str__() to print the user-friendly representation"
   ]
  },
  {
   "cell_type": "markdown",
   "id": "91b7857d-c481-41b2-b0f5-1e3b7a1ee1cd",
   "metadata": {},
   "source": [
    "__repr__() Method:\n",
    "\n",
    "The __repr__() method is used to define the \"formal\" or developer-friendly string representation of an object.\n",
    "It is called by the built-in repr() function and by the Python interpreter when we enter an expression in the interactive shell, or when we use the repr(obj) function.\n",
    "The primary purpose of __repr__() is to provide a string that, when passed to eval(), would recreate the same object.\n",
    "This method is often used for debugging and development purposes."
   ]
  },
  {
   "cell_type": "code",
   "execution_count": 8,
   "id": "be2282d1-6f0b-412f-81b0-9f5f2af05b1f",
   "metadata": {},
   "outputs": [
    {
     "name": "stdout",
     "output_type": "stream",
     "text": [
      "MyClass(42)\n"
     ]
    }
   ],
   "source": [
    "class MyClass:\n",
    "    def __init__(self, value):\n",
    "        self.value = value\n",
    "\n",
    "    def __repr__(self):\n",
    "        return f\"MyClass({self.value})\"\n",
    "\n",
    "obj = MyClass(42)\n",
    "print(repr(obj))  # Calls __repr__() to get the developer-friendly representation"
   ]
  },
  {
   "cell_type": "markdown",
   "id": "18a7fc59-d40a-471b-b325-54b59f8764e0",
   "metadata": {},
   "source": [
    "Q3. In a class, how do you intercept slice operations?"
   ]
  },
  {
   "cell_type": "markdown",
   "id": "72578fff-03d3-4995-bec0-91106ca9263a",
   "metadata": {},
   "source": [
    "To intercept slice operations in a class, we can define two special methods: __getitem__() and __setitem__(). These methods allows us to customize the behavior of indexing, slicing, and assignment for instances of class.\n",
    "\n",
    "__getitem__() Method:\n",
    "\n",
    "The __getitem__() method is called when we use square brackets [] to access elements from an instance of class. It allows us to customize how slicing and indexing operations work for objects.\n",
    "We can check the type of the key parameter to determine whether it's a single index (for element access) or a slice object (for slice operations)."
   ]
  },
  {
   "cell_type": "code",
   "execution_count": 9,
   "id": "77332495-02da-403e-ae35-01c13e96214c",
   "metadata": {},
   "outputs": [
    {
     "name": "stdout",
     "output_type": "stream",
     "text": [
      "2\n",
      "[1, 2, 3]\n"
     ]
    }
   ],
   "source": [
    "class MySliceableClass:\n",
    "    def __init__(self, data):\n",
    "        self.data = data\n",
    "\n",
    "    def __getitem__(self, key):\n",
    "        if isinstance(key, slice):\n",
    "            # Handle slice operations\n",
    "            start, stop, step = key.start, key.stop, key.step\n",
    "            return self.data[start:stop:step]\n",
    "        else:\n",
    "            # Handle single element access\n",
    "            return self.data[key]\n",
    "\n",
    "my_object = MySliceableClass([0, 1, 2, 3, 4, 5])\n",
    "\n",
    "# Single element access\n",
    "print(my_object[2])  # Output: 2\n",
    "\n",
    "# Slice operation\n",
    "print(my_object[1:4])  # Output: [1, 2, 3]"
   ]
  },
  {
   "cell_type": "markdown",
   "id": "81de756c-2c0c-45f3-9931-b81cf5dcf4d9",
   "metadata": {},
   "source": [
    "__setitem__() Method (Optional):\n",
    "\n",
    "If we want to support assignment (changing values) through slice operations, we can also define the __setitem__() method. This method is called when we use square brackets to assign values.\n",
    "Like __getitem__(), we can check the type of the key parameter to determine whether it's a single index or a slice object."
   ]
  },
  {
   "cell_type": "code",
   "execution_count": 10,
   "id": "56e60a31-f51b-4141-8428-b6e9b28f6f38",
   "metadata": {},
   "outputs": [
    {
     "name": "stdout",
     "output_type": "stream",
     "text": [
      "[0, 1, 99, 3, 4, 5]\n",
      "[0, 10, 20, 30, 4, 5]\n"
     ]
    }
   ],
   "source": [
    "class MyMutableSliceableClass:\n",
    "    def __init__(self, data):\n",
    "        self.data = data\n",
    "\n",
    "    def __getitem__(self, key):\n",
    "        if isinstance(key, slice):\n",
    "            start, stop, step = key.start, key.stop, key.step\n",
    "            return self.data[start:stop:step]\n",
    "        else:\n",
    "            return self.data[key]\n",
    "\n",
    "    def __setitem__(self, key, value):\n",
    "        if isinstance(key, slice):\n",
    "            start, stop, step = key.start, key.stop, key.step\n",
    "            self.data[start:stop:step] = value\n",
    "        else:\n",
    "            self.data[key] = value\n",
    "\n",
    "my_object = MyMutableSliceableClass([0, 1, 2, 3, 4, 5])\n",
    "\n",
    "# Single element assignment\n",
    "my_object[2] = 99\n",
    "print(my_object.data)  # Output: [0, 1, 99, 3, 4, 5]\n",
    "\n",
    "# Slice assignment\n",
    "my_object[1:4] = [10, 20, 30]\n",
    "print(my_object.data)  # Output: [0, 10, 20, 30, 4, 5]"
   ]
  },
  {
   "cell_type": "markdown",
   "id": "74e20707-a951-4f55-914a-498d11e1bae8",
   "metadata": {},
   "source": [
    "Q4. In a class, how do you capture in-place addition?"
   ]
  },
  {
   "cell_type": "markdown",
   "id": "4c496f36-231e-4be4-8a21-552280f16447",
   "metadata": {},
   "source": [
    "To capture in-place addition in a class, we can define the __iadd__() method. This method is called when the += operator is used with an instance of class. By implementing __iadd__(), we can customize the behavior of in-place addition for objects of class."
   ]
  },
  {
   "cell_type": "code",
   "execution_count": 12,
   "id": "a1b216ab-f7a1-48d5-9fc5-ff127c951e39",
   "metadata": {},
   "outputs": [
    {
     "name": "stdout",
     "output_type": "stream",
     "text": [
      "MyClass instance with value: 30\n",
      "MyClass instance with value: 35\n"
     ]
    }
   ],
   "source": [
    "class MyClass:\n",
    "    def __init__(self, value):\n",
    "        self.value = value\n",
    "\n",
    "    def __iadd__(self, other):\n",
    "        if isinstance(other, MyClass):\n",
    "            # Handle in-place addition with another instance of MyClass\n",
    "            self.value += other.value\n",
    "        else:\n",
    "            # Handle in-place addition with other types\n",
    "            self.value += other\n",
    "        return self  # You should return self to allow chaining\n",
    "\n",
    "    def __str__(self):\n",
    "        return f\"MyClass instance with value: {self.value}\"\n",
    "\n",
    "# Create instances of MyClass\n",
    "obj1 = MyClass(10)\n",
    "obj2 = MyClass(20)\n",
    "\n",
    "# Perform in-place addition using +=\n",
    "obj1 += obj2  # Calls obj1.__iadd__(obj2)\n",
    "print(obj1)  # Output: MyClass instance with value: 30\n",
    "\n",
    "# Perform in-place addition with a numeric value\n",
    "obj1 += 5  # Calls obj1.__iadd__(5)\n",
    "print(obj1)  # Output: MyClass instance with value: 35"
   ]
  },
  {
   "cell_type": "markdown",
   "id": "ba72087f-4ba1-47b2-9775-d2e453f52387",
   "metadata": {},
   "source": [
    "Q5. When is it appropriate to use operator overloading?"
   ]
  },
  {
   "cell_type": "markdown",
   "id": "af1aa6f6-02b6-470c-885a-b5a926ace1f6",
   "metadata": {},
   "source": [
    "Operator overloading is appropriate when we want to give custom meaning or behavior to built-in operators in Python for instances of our own classes. It allows us to make objects behave intuitively with operators, making  code more readable and expressive. Here are some scenarios in which operator overloading is commonly used:\n",
    "\n",
    "1.Mathematical Operations:\n",
    "\n",
    "   -Overloading operators like '+', '-', '*', '/', etc., can be useful for custom numeric or mathematical types. For example, we might create a 'Vector' class and overload operators to perform vector addition, subtraction, and scalar multiplication.\n",
    "\n",
    "2.Comparison Operations:\n",
    "\n",
    "   -Overloading comparison operators like '<', '<=', '>', '>=', '==', and !'=' allows us to define custom comparison logic for objects. This is useful when we want to compare objects based on specific attributes or criteria.\n",
    "\n",
    "3.Container-Like Behavior:\n",
    "\n",
    "   -You can make your custom classes iterable by overloading the '__iter__()' and '__next__()' methods. This allows us objects to be used in 'for' loops and other iteration contexts.\n",
    "\n",
    "4.String Representation:\n",
    "\n",
    "   -Overloading '__str__()' and '__repr__()' methods allows us to customize how  objects are displayed as strings. This is especially useful for debugging and making code more user-friendly.\n",
    "\n",
    "5.In-Place Operations:\n",
    "\n",
    "   -Overloading in-place operators like '+=', '-=', '*=', '/=', etc., can be helpful when we want to modify the state of an object in a custom way when the corresponding operator is used."
   ]
  }
 ],
 "metadata": {
  "kernelspec": {
   "display_name": "Python 3 (ipykernel)",
   "language": "python",
   "name": "python3"
  },
  "language_info": {
   "codemirror_mode": {
    "name": "ipython",
    "version": 3
   },
   "file_extension": ".py",
   "mimetype": "text/x-python",
   "name": "python",
   "nbconvert_exporter": "python",
   "pygments_lexer": "ipython3",
   "version": "3.10.6"
  }
 },
 "nbformat": 4,
 "nbformat_minor": 5
}
