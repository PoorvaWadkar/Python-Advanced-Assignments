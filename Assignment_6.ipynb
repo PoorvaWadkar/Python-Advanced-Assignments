{
 "cells": [
  {
   "cell_type": "markdown",
   "id": "77a2e5b4-c795-4d2c-b98b-5a82ea4d55c1",
   "metadata": {},
   "source": [
    "Q1. Describe three applications for exception processing."
   ]
  },
  {
   "cell_type": "markdown",
   "id": "f1b8fe26-a853-4eb0-8b08-20e0e9d0a71c",
   "metadata": {},
   "source": [
    "Exception processing is an important aspect of many software and business systems as it allows for the handling of unexpected or exceptional conditions that may occur during the execution of a program. \n",
    "\n",
    "1.Error Handling in Software Development: Exception processing is widely used in software development to handle errors and unexpected conditions that can occur during program execution. When a program encounters an error, it can raise an exception, which is then caught and processed by an exception handling mechanism. For example, in a web application, if a user enters invalid data in a form, the application can raise a validation exception, which is caught by the error-handling code.\n",
    "\n",
    "2.Financial Transactions and Banking: In the context of financial systems, exception processing is crucial for handling exceptional conditions that can occur during financial transactions. For instance, if a bank customer tries to withdraw more money from an ATM than their account balance allows, an exception can be raised. The system can then decide how to handle this situation, such as denying the transaction or charging an overdraft fee. \n",
    "\n",
    "3.Supply Chain and Inventory Management: In supply chain and inventory management systems, exception processing is used to address unexpected events that can disrupt the smooth flow of goods and materials. For example, if a supplier fails to deliver a shipment of products on time, an exception can be triggered. The system can then take appropriate actions, such as notifying the purchasing department, rescheduling delivery, or looking for alternative suppliers. \n"
   ]
  },
  {
   "cell_type": "markdown",
   "id": "a698b19a-3fb3-4ca9-ac10-7505cb4777bd",
   "metadata": {},
   "source": [
    "Q2. What happens if you don't do something extra to treat an exception?"
   ]
  },
  {
   "cell_type": "markdown",
   "id": "b952651d-c33c-428a-8b22-af81d4632184",
   "metadata": {},
   "source": [
    "If we don't take specific actions to treat or handle an exception in a software program, the exception will typically propagate up the call stack until it reaches a higher-level exception handler or, if one is not provided, it will result in the termination of the program. Here's what can happen when we don't handle exceptions:\n",
    "\n",
    "1.Program Termination: If an exception is not caught and handled within the current scope of the program, it will propagate to higher-level scopes in the program, moving up the call stack. If it reaches the top-level scope and there is no suitable exception handler to catch and manage the exception, the program will usually terminate abruptly. This can result in an error message or a crash, making the program unusable and potentially causing data loss.\n",
    "\n",
    "2.Unpredictable Behavior: Failing to handle exceptions can lead to unpredictable and undesirable program behavior. For example, if an exception occurs during a critical operation, not handling it may result in corrupted data, incomplete transactions, or other unintended consequences. Users may not receive meaningful error messages, and the program may fail to provide graceful degradation or recovery from errors.\n",
    "\n",
    "3.Security Risks: In some cases, unhandled exceptions can be exploited by malicious actors to gain unauthorized access, disrupt the application, or extract sensitive information. Failing to handle exceptions, especially those related to security, can pose significant risks to the integrity and security of the software.\n",
    "\n",
    "4.Difficulty in Debugging: Without proper exception handling, diagnosing and debugging issues in the program becomes more challenging. Exception information that could be used for troubleshooting and identifying the root cause of problems may not be captured, making it harder to pinpoint the source of errors.\n"
   ]
  },
  {
   "cell_type": "markdown",
   "id": "39e5e2ac-554d-4e6e-8991-9281f9e5841a",
   "metadata": {},
   "source": [
    "Q3. What are your options for recovering from an exception in your script?"
   ]
  },
  {
   "cell_type": "markdown",
   "id": "ad619763-042f-45f4-adc7-ec367f047c2d",
   "metadata": {},
   "source": [
    "When an exception occurs in a script or program, we have several options for recovering from it, depending on the nature of the exception and the requirements of our application. Here are some common strategies for recovering from exceptions:\n",
    "\n",
    "1.Try-Catch (Exception Handling): Use a try-catch block to catch and handle specific exceptions. Inside the catch block, we can implement code to manage the exception. This might involve logging the error, displaying an error message to the user, or taking alternative actions to recover gracefully. For example, if a file I/O operation fails, we can catch the exception, close open resources, and inform the user of the error.\n",
    "\n",
    "2.Retry Mechanism: In some cases, we can implement a retry mechanism to attempt the failed operation again. For transient errors, such as network connectivity issues, retrying the operation a few times with delays in between attempts can be an effective way to recover. Be cautious about infinite retry loops; set a maximum retry count to avoid getting stuck in a loop.\n",
    "\n",
    "3.Fallback or Default Values: When an exception occurs, we can provide default or fallback values or behaviors to keep the program running. For example, if a database query fails, we can return a default value or use a cached result instead of crashing the application.\n",
    "\n",
    "4.Graceful Degradation: Plan for graceful degradation by offering reduced functionality or alternative pathways when an exception occurs. This is common in web applications, where, if a server-side operation fails, the application might switch to a simplified \"offline mode\" or provide basic functionality to users.\n",
    "\n",
    "5.Rollback and Transaction Handling: In database-related exceptions, it's crucial to handle transactions effectively. We can implement rollback operations to ensure data integrity and consistency if an exception occurs during a series of database updates.\n",
    "\n",
    "6.Logging and Error Reporting: Always log exceptions and errors for debugging and monitoring purposes. This can help us identify the root causes of issues and fix them. Error reporting mechanisms can notify administrators or developers about critical exceptions in real-time.\n",
    "\n",
    "7.User Feedback: For user-facing applications, provide meaningful error messages or user-friendly instructions on what to do next when an exception occurs. This can help users understand the problem and potentially take actions to resolve it.\n"
   ]
  },
  {
   "cell_type": "markdown",
   "id": "c47e00ae-fb45-4645-85db-f1ee1e77cc84",
   "metadata": {},
   "source": [
    "Q4. Describe two methods for triggering exceptions in your script."
   ]
  },
  {
   "cell_type": "markdown",
   "id": "cefe29f5-7f66-441e-bf0d-7dd4a4987e56",
   "metadata": {},
   "source": [
    "In programming, exceptions are typically triggered by using specific statements or functions that can raise exceptions when certain conditions are met or errors occur. Here are two common methods for triggering exceptions in our script:\n",
    "\n",
    "Using the raise Statement:\n",
    "\n",
    "In many programming languages, we can explicitly raise an exception using the raise statement. This allows us to create and throw custom exceptions or raise built-in exceptions when a specific condition is met. The syntax varies from language to language, but the general idea is the same. Here's a Python example:"
   ]
  },
  {
   "cell_type": "code",
   "execution_count": 1,
   "id": "44cc6255-a91e-44fb-b3e8-3d7e33e4ea28",
   "metadata": {},
   "outputs": [
    {
     "name": "stdout",
     "output_type": "stream",
     "text": [
      "An error occurred: Division by zero is not allowed.\n"
     ]
    }
   ],
   "source": [
    "def divide(a, b):\n",
    "    if b == 0:\n",
    "        raise ZeroDivisionError(\"Division by zero is not allowed.\")\n",
    "    return a / b\n",
    "\n",
    "try:\n",
    "    result = divide(10, 0)\n",
    "except ZeroDivisionError as e:\n",
    "    print(f\"An error occurred: {e}\")\n"
   ]
  },
  {
   "cell_type": "markdown",
   "id": "d764bf5c-9dad-4d81-bdec-d0cb8b93e2cf",
   "metadata": {},
   "source": [
    "Calling Functions or Methods That May Raise Exceptions:\n",
    "\n",
    "Many functions or methods provided by libraries or built-in to the programming language can raise exceptions when something goes wrong. By calling these functions or methods, we can indirectly trigger exceptions. For example, when opening a file, if the file does not exist, a FileNotFoundError exception may be raised:"
   ]
  },
  {
   "cell_type": "code",
   "execution_count": 2,
   "id": "c20e5979-0a21-42c5-950b-7fb073b71da3",
   "metadata": {},
   "outputs": [
    {
     "name": "stdout",
     "output_type": "stream",
     "text": [
      "An error occurred: [Errno 2] No such file or directory: 'non_existent_file.txt'\n"
     ]
    }
   ],
   "source": [
    "try:\n",
    "    with open(\"non_existent_file.txt\", \"r\") as file:\n",
    "        content = file.read()\n",
    "except FileNotFoundError as e:\n",
    "    print(f\"An error occurred: {e}\")\n"
   ]
  },
  {
   "cell_type": "markdown",
   "id": "e8e2d7f6-2fe4-4765-ae31-ff1e8cc46e47",
   "metadata": {},
   "source": [
    "Q5. Identify two methods for specifying actions to be executed at termination time, regardless of whether or not an exception exists."
   ]
  },
  {
   "cell_type": "markdown",
   "id": "a7dc0a14-2444-4df6-bd82-bbc6705ef3f1",
   "metadata": {},
   "source": [
    "To specify actions that should be executed at termination time, regardless of whether or not an exception exists, we can use two common methods:\n",
    "\n",
    "1.Finally Blocks:\n",
    "\n",
    "   -Many programming languages support the use of 'finally' blocks, which are associated with exception handling constructs like 'try-catch' blocks. The code within a 'finally' block is guaranteed to be executed, whether or not an exception is raised. This is particularly useful for resource cleanup, such as closing files, releasing database connections, or performing other essential cleanup tasks. \n"
   ]
  },
  {
   "cell_type": "markdown",
   "id": "5f07aa63-64b1-4de7-907a-232e72a76520",
   "metadata": {},
   "source": [
    "try:\n",
    "\n",
    "    # Code that may raise an exception\n",
    "    \n",
    "    file = open(\"example.txt\", \"r\")\n",
    "    \n",
    "       content = file.read()\n",
    "       \n",
    "except FileNotFoundError:\n",
    "\n",
    "    print(\"File not found.\")\n",
    "    \n",
    "finally:\n",
    "\n",
    "    # Cleanup code that runs regardless of exceptions\n",
    "    \n",
    "    if 'file' in locals():\n",
    "    \n",
    "        file.close()\n",
    "\n",
    "In this example, the 'finally' block ensures that the file is closed, even if an exception is raised."
   ]
  },
  {
   "cell_type": "markdown",
   "id": "858e4693-e260-445a-85a4-ce6f10bbf312",
   "metadata": {},
   "source": [
    "2.Using Context Managers (with with statement):\n",
    "\n",
    "Python encourages the use of context managers, and the with statement is used to work with them. Context managers are objects that define the methods __enter__ and __exit__, and they are commonly used for resource management. The with statement ensures that the context manager's __exit__ method is called at the end of the block."
   ]
  },
  {
   "cell_type": "markdown",
   "id": "5f8932af-ecf1-4c71-9bd2-fc65b9960eff",
   "metadata": {},
   "source": [
    "with open(\"example.txt\", \"r\") as file:\n",
    "\n",
    "    content = file.read()\n",
    "    \n",
    "#File is automatically closed when the block exits"
   ]
  }
 ],
 "metadata": {
  "kernelspec": {
   "display_name": "Python 3 (ipykernel)",
   "language": "python",
   "name": "python3"
  },
  "language_info": {
   "codemirror_mode": {
    "name": "ipython",
    "version": 3
   },
   "file_extension": ".py",
   "mimetype": "text/x-python",
   "name": "python",
   "nbconvert_exporter": "python",
   "pygments_lexer": "ipython3",
   "version": "3.10.6"
  }
 },
 "nbformat": 4,
 "nbformat_minor": 5
}
