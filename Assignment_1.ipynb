{
 "cells": [
  {
   "cell_type": "markdown",
   "id": "5e099b43-2495-4b3e-86ee-387ba41b1815",
   "metadata": {},
   "source": [
    "Q1. What is the purpose of Python's OOP?\n",
    "\n",
    "•\tThe purpose of Python's Object-Oriented Programming (OOP) is to organize code into classes and objects, promoting modularity, reusability, and clearer modeling of real-world concepts. \n",
    "\n",
    "•\tOOP enhances code readability, scalability, and collaboration while allowing for efficient manipulation of data and behavior through encapsulation, inheritance, polymorphism, and abstraction.\n"
   ]
  },
  {
   "cell_type": "markdown",
   "id": "608d40cf-bac8-41c9-ae77-ef4b07645c23",
   "metadata": {},
   "source": [
    "Q2. Where does an inheritance search look for an attribute?\n",
    "\n",
    "Inheritance search refers to the process in object-oriented programming where the program searches for a specific attribute (such as a method or a variable) in a class hierarchy, typically when that attribute is accessed through an instance of a class. \n",
    "This process involves looking for the attribute in the following order:\n",
    "\n",
    "Instance's Class: The search starts within the class of the instance where the attribute access is made. If the attribute is found here, it's used.\n",
    "\n",
    "Parent Classes (Superclasses): If the attribute is not found in the instance's class, the search continues in the parent classes in the order they are defined, following the Method Resolution Order (MRO). This allows attributes to be inherited from parent classes.\n",
    "\n",
    "Higher-Level Ancestors: The search proceeds up the class hierarchy, checking each level of parent classes until the attribute is found or the search reaches the top-most ancestor (usually the base object class).\n"
   ]
  },
  {
   "cell_type": "markdown",
   "id": "c30ce461-c50d-413c-b34e-14e7f5cf7461",
   "metadata": {},
   "source": [
    "Q3. How do you distinguish between a class object and an instance object?\t\n",
    "\n",
    "Class Object:\n",
    "   -A class object is an object that represents a class itself.\n",
    "   -It is created when we define a class in code.\n",
    "   -It has its own attributes and methods that can be accessed using the class name.\n",
    "   -We can access class-level attributes and methods using the class name itself, without creating instances."
   ]
  },
  {
   "cell_type": "code",
   "execution_count": 1,
   "id": "a5f8beee-3a34-4d64-a27b-132df7c068ab",
   "metadata": {},
   "outputs": [
    {
     "name": "stdout",
     "output_type": "stream",
     "text": [
      "This is a class variable\n"
     ]
    }
   ],
   "source": [
    "#Example:\n",
    "class MyClass:\n",
    "    class_variable = \"This is a class variable\"\n",
    "\n",
    "print(MyClass.class_variable) "
   ]
  },
  {
   "cell_type": "markdown",
   "id": "03eecc23-0505-45d1-a424-e1df5c050852",
   "metadata": {},
   "source": [
    "Instance Object:\n",
    "   -An instance object is a specific object that is created from a class.\n",
    "   -It represents a specific instance of the class, with its own set of attribute values.\n",
    "   -We create an instance of a class by calling the class as if it were a function.\n",
    "   -Each instance has its own unique attributes and can have different values for those attributes.\n",
    "   -We can access instance-specific attributes and methods using the instance name."
   ]
  },
  {
   "cell_type": "code",
   "execution_count": 2,
   "id": "f9191cd4-6765-45c0-a479-5bb14631cf9d",
   "metadata": {},
   "outputs": [
    {
     "name": "stdout",
     "output_type": "stream",
     "text": [
      "Alice\n",
      "Bob\n"
     ]
    }
   ],
   "source": [
    "#Example:\n",
    "class Person:\n",
    "    def __init__(self, name):\n",
    "        self.name = name\n",
    "\n",
    "# Creating instances of the Person class\n",
    "person1 = Person(\"Alice\")\n",
    "person2 = Person(\"Bob\")\n",
    "\n",
    "# Accessing instance attribute\n",
    "print(person1.name) \n",
    "print(person2.name)  "
   ]
  },
  {
   "cell_type": "markdown",
   "id": "6693a8f3-09ba-4b43-9912-74dd002cca6e",
   "metadata": {},
   "source": [
    "Q4. What makes the first argument in a class’s method function special?\n",
    "\n",
    "In Python, the first argument in a class's method function is conventionally named 'self', although we can technically use any valid variable name. This argument is special because it refers to the instance of the class on which the method is being called. \n",
    "\n",
    "1.Instance Reference: When we call a method on an instance of a class, the instance itself is automatically passed as the first argument to the method. By convention, this argument is named 'self'. This allows the method to access and manipulate the instance's attributes and methods.\n",
    "\n",
    "2.Accessing Instance Attributes: Using 'self', we can access instance attributes within the method. This enables the method to work with the specific data associated with that instance.\n",
    "\n",
    "3.Modifying Instance State: Methods can modify the state of an instance, including updating attribute values. Without the 'self' argument, the method wouldn't know which instance to operate on."
   ]
  },
  {
   "cell_type": "code",
   "execution_count": 4,
   "id": "d169e82e-1250-4fda-87f2-b9c0232355e2",
   "metadata": {},
   "outputs": [
    {
     "name": "stdout",
     "output_type": "stream",
     "text": [
      "This is a Toyota Camry.\n"
     ]
    }
   ],
   "source": [
    "#Example:\n",
    "class Car:\n",
    "    def __init__(self, brand, model):\n",
    "        self.brand = brand\n",
    "        self.model = model\n",
    "\n",
    "    def description(self):\n",
    "        return f\"This is a {self.brand} {self.model}.\"\n",
    "\n",
    "# Creating an instance of the Car class\n",
    "my_car = Car(\"Toyota\", \"Camry\")\n",
    "\n",
    "# Calling the description method\n",
    "print(my_car.description())  "
   ]
  },
  {
   "cell_type": "markdown",
   "id": "350d31b1-235d-479f-bad8-f36f713a83c0",
   "metadata": {},
   "source": [
    "Q5. What is the purpose of the __init__ method?\n",
    "\n",
    "The __init__ method in Python is a special method sometimes referred to as a constructor that is automatically called when an instance of a class is created. \n",
    "Its purpose is to initialize the attributes of the instance, setting up the initial state of the object. It allows us to pass initial values to the object's attributes when it's instantiated.\n"
   ]
  },
  {
   "cell_type": "markdown",
   "id": "857a62de-363a-4a81-9b83-e0cf0c9903aa",
   "metadata": {},
   "source": [
    "Q6. What is the process for creating a class instance?\n",
    "\n",
    "1)Class Definition: First, we need to define the class with its attributes and methods. \n",
    "\n",
    "2)Instantiation: To create an instance (object) of the class, we call the class name followed by parentheses. This process is called instantiation.\n",
    "\n",
    "3)Initialization: During instantiation, the __init__ method (constructor) of the class is automatically called. This method initializes the attributes of the instance with the provided initial values.\n",
    "\n",
    "4)Attribute Access and Method Invocation: Once the instance is created and attributes are initialized, we can access its attributes and call its methods using dot notation.\n"
   ]
  },
  {
   "cell_type": "code",
   "execution_count": 6,
   "id": "4df4bc0f-c455-4991-b441-7d8d87b1c9b1",
   "metadata": {},
   "outputs": [
    {
     "name": "stdout",
     "output_type": "stream",
     "text": [
      "Alice\n",
      "25\n",
      "Hi, my name is Alice and I'm 30 years old.\n",
      "Hi, my name is Bob and I'm 25 years old.\n"
     ]
    }
   ],
   "source": [
    "class Person:\n",
    "    def __init__(self, name, age):\n",
    "        self.name = name\n",
    "        self.age = age\n",
    "\n",
    "    def introduce(self):\n",
    "        print(f\"Hi, my name is {self.name} and I'm {self.age} years old.\")\n",
    "\n",
    "# Creating instances of the Person class\n",
    "person1 = Person(\"Alice\", 30)\n",
    "person2 = Person(\"Bob\", 25)\n",
    "\n",
    "# Accessing instance attributes\n",
    "print(person1.name)  \n",
    "print(person2.age)   \n",
    "\n",
    "# Calling instance methods\n",
    "person1.introduce()  \n",
    "person2.introduce()  "
   ]
  },
  {
   "cell_type": "markdown",
   "id": "d856546d-e25b-4ff0-ae76-c1cee2905cdc",
   "metadata": {},
   "source": [
    "Q7. What is the process for creating a class?\n",
    "\n",
    "1.Class Declaration: Use the class keyword to declare a class, followed by the class name and a colon.\n",
    "\n",
    "2.Attribute and Method Definitions: Inside the class block, define attributes (variables) and methods (functions) that the class will have.\n",
    "\n",
    "3.Constructor (__init__ Method): Define an __init__ method within the class to initialize attributes when an instance is created. This method is called automatically during instantiation.\n",
    "\n",
    "4.Method Definitions: Add other methods that define the behavior of instances of the class.\n",
    "\n",
    "5.Instance Creation: Instantiate objects (instances) of the class using the class name followed by parentheses.\n",
    "\n",
    "6.Attribute Access and Method Invocation: Access instance attributes and call methods using dot notation.\n"
   ]
  },
  {
   "cell_type": "code",
   "execution_count": 7,
   "id": "08b3b7ba-01dd-4a2f-a7d8-18aeac11f3bf",
   "metadata": {},
   "outputs": [
    {
     "name": "stdout",
     "output_type": "stream",
     "text": [
      "Buddy\n",
      "Max barks!\n"
     ]
    }
   ],
   "source": [
    "class Dog:\n",
    "    def __init__(self, name, age):\n",
    "        self.name = name\n",
    "        self.age = age\n",
    "\n",
    "    def bark(self):\n",
    "        print(f\"{self.name} barks!\")\n",
    "\n",
    "# Creating instances of the Dog class\n",
    "dog1 = Dog(\"Buddy\", 3)\n",
    "dog2 = Dog(\"Max\", 5)\n",
    "\n",
    "# Accessing attributes and invoking methods\n",
    "print(dog1.name)  \n",
    "dog2.bark()       "
   ]
  },
  {
   "cell_type": "markdown",
   "id": "51f7e26e-2a69-4e65-afb8-c58c7f67e8bb",
   "metadata": {},
   "source": [
    "Q8. How would you define the superclasses of a class?\n",
    "\n",
    "The superclasses of a class are the parent classes from which the given class inherits attributes and methods. In Python, we can define superclasses by specifying them in the parentheses following the class name during class declaration. This is known as class inheritance.\n",
    "Syntax to define superclasses:\n",
    "\n",
    "class Subclass(Superclass1, Superclass2, ...):\n",
    "    # Subclass attributes and methods\n",
    "    "
   ]
  },
  {
   "cell_type": "code",
   "execution_count": 8,
   "id": "40c4c832-7886-4ce0-a4c2-6ab82549ab69",
   "metadata": {},
   "outputs": [
    {
     "name": "stdout",
     "output_type": "stream",
     "text": [
      "Buddy barks!\n",
      "Whiskers meows!\n"
     ]
    }
   ],
   "source": [
    "class Animal:\n",
    "    def __init__(self, name):\n",
    "        self.name = name\n",
    "\n",
    "    def speak(self):\n",
    "        pass\n",
    "\n",
    "class Dog(Animal):\n",
    "    def speak(self):\n",
    "        return f\"{self.name} barks!\"\n",
    "\n",
    "class Cat(Animal):\n",
    "    def speak(self):\n",
    "        return f\"{self.name} meows!\"\n",
    "\n",
    "# Creating instances of the subclasses\n",
    "dog = Dog(\"Buddy\")\n",
    "cat = Cat(\"Whiskers\")\n",
    "\n",
    "# Calling the speak method for each instance\n",
    "print(dog.speak())  \n",
    "print(cat.speak())  "
   ]
  },
  {
   "cell_type": "code",
   "execution_count": null,
   "id": "a4bcb9ba-7df1-4e2f-a8d2-5af70c190f91",
   "metadata": {},
   "outputs": [],
   "source": []
  }
 ],
 "metadata": {
  "kernelspec": {
   "display_name": "Python 3 (ipykernel)",
   "language": "python",
   "name": "python3"
  },
  "language_info": {
   "codemirror_mode": {
    "name": "ipython",
    "version": 3
   },
   "file_extension": ".py",
   "mimetype": "text/x-python",
   "name": "python",
   "nbconvert_exporter": "python",
   "pygments_lexer": "ipython3",
   "version": "3.10.6"
  }
 },
 "nbformat": 4,
 "nbformat_minor": 5
}
