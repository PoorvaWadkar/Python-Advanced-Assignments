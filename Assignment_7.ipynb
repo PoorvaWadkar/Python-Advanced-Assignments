{
 "cells": [
  {
   "cell_type": "markdown",
   "id": "d54b86dc-ec1a-4819-8f91-ccf43c73b5ae",
   "metadata": {},
   "source": [
    "Q1. What is the purpose of the try statement?"
   ]
  },
  {
   "cell_type": "markdown",
   "id": "53b165de-1e19-48c7-b178-3a48b3b5d522",
   "metadata": {},
   "source": [
    "The try statement in programming is used to enclose a block of code that might potentially raise an exception or error during its execution. Its primary purpose is to establish a \"try-catch\" or \"try-except\" block, which allows us to handle and manage exceptions that may occur within the enclosed code. \n",
    "\n",
    "The try block: This is where we place the code that we want to monitor for exceptions. If an exception occurs within this block, the program doesn't immediately terminate but proceeds to the associated catch block (if provided).\n",
    "\n",
    "The catch block: This is where we handle the exception that was raised within the try block. We can specify the type of exception we want to catch, and if that type of exception occurs, the code in the catch block is executed. This allows us to gracefully manage errors, log information, or take appropriate actions to recover from the exception.\n"
   ]
  },
  {
   "cell_type": "code",
   "execution_count": 1,
   "id": "24d24a4f-46a2-4e4e-8af1-da467ffb01c2",
   "metadata": {},
   "outputs": [
    {
     "name": "stdout",
     "output_type": "stream",
     "text": [
      "An error occurred: division by zero\n"
     ]
    }
   ],
   "source": [
    "try:\n",
    "    # Code that may raise an exception\n",
    "    result = 10 / 0\n",
    "except ZeroDivisionError as e:\n",
    "    # Handle the exception (division by zero in this case)\n",
    "    print(\"An error occurred:\", e)\n"
   ]
  },
  {
   "cell_type": "markdown",
   "id": "92f31e8d-1b66-441b-b800-e0a574323738",
   "metadata": {},
   "source": [
    "Q2. What are the two most popular try statement variations?"
   ]
  },
  {
   "cell_type": "markdown",
   "id": "0a97e04b-bc2e-4cfe-893b-cbdfb16348b0",
   "metadata": {},
   "source": [
    "\n",
    "The two most popular variations of the try statement, commonly found in various programming languages, are:\n",
    "\n",
    "try-catch or try-except:\n",
    "This variation is used for handling exceptions or errors that may occur within the try block. If an exception occurs, the program will transfer control to the associated catch block, allowing us to handle the exception and take appropriate actions.\n"
   ]
  },
  {
   "cell_type": "code",
   "execution_count": 2,
   "id": "280cfdf8-6852-461a-9f12-5e97944baa43",
   "metadata": {},
   "outputs": [
    {
     "name": "stdout",
     "output_type": "stream",
     "text": [
      "An error occurred: division by zero\n"
     ]
    }
   ],
   "source": [
    "try:\n",
    "    # Code that may raise an exception\n",
    "    result = 10 / 0\n",
    "except ZeroDivisionError as e:\n",
    "    # Handle the exception (division by zero in this case)\n",
    "    print(\"An error occurred:\", e)\n"
   ]
  },
  {
   "cell_type": "markdown",
   "id": "21abaa8a-64aa-4a13-a63f-9c3ddb4ef88c",
   "metadata": {},
   "source": [
    "try-finally:\n",
    "\n",
    "This variation is used to ensure that a specific block of code (the finally block) is executed, regardless of whether an exception occurs within the try block or not. It is often used for cleanup operations, such as closing files or releasing resources, to guarantee that these actions are performed, even in the presence of exceptions.\n"
   ]
  },
  {
   "cell_type": "code",
   "execution_count": null,
   "id": "f66d10a5-d2c2-48d0-8ae7-1608d82bc905",
   "metadata": {},
   "outputs": [],
   "source": [
    "try:\n",
    "    # Code that may raise an exception\n",
    "    file = open(\"example.txt\", \"r\")\n",
    "    result = 10 / 2\n",
    "finally:\n",
    "    # This block is always executed, even if an exception occurs\n",
    "    file.close()"
   ]
  },
  {
   "cell_type": "markdown",
   "id": "262cf462-2b6e-4bca-88b9-f834797cea11",
   "metadata": {},
   "source": [
    "Q3. What is the purpose of the raise statement?"
   ]
  },
  {
   "cell_type": "markdown",
   "id": "84d76226-c8ff-4913-aa53-d1b17e82dd34",
   "metadata": {},
   "source": [
    "The raise statement in programming is used to intentionally raise an exception or error within our code. Its primary purpose is to signal that an exceptional situation or error condition has occurred during program execution. We can use the raise statement to create custom exceptions, propagate built-in exceptions, or handle specific cases that require error reporting and handling.\n",
    "\n",
    "Here's how the raise statement works:\n",
    "\n",
    "1.Raising built-in exceptions: We can use the raise statement to raise standard, built-in exceptions provided by the programming language. For example, in Python, we can raise exceptions like ValueError, TypeError, or ZeroDivisionError when a certain condition is met. This allows us to communicate errors to the program's caller or higher-level error-handling mechanisms."
   ]
  },
  {
   "cell_type": "code",
   "execution_count": 4,
   "id": "a8054dbf-b233-4c74-af0d-74cfa993972e",
   "metadata": {},
   "outputs": [],
   "source": [
    "def divide(a, b):\n",
    "    if b == 0:\n",
    "        raise ZeroDivisionError(\"Division by zero is not allowed.\")\n",
    "    return a / b\n"
   ]
  },
  {
   "cell_type": "markdown",
   "id": "1bcb3814-a9d6-4d0f-835a-659c9fd0e52e",
   "metadata": {},
   "source": [
    "2.Creating custom exceptions: We can define our own custom exceptions by creating classes that inherit from the base exception class in the language. Once defined, we can use the raise statement to raise instances of these custom exceptions to handle specific error scenarios in our code."
   ]
  },
  {
   "cell_type": "code",
   "execution_count": null,
   "id": "3c3add27-1ae4-4a2f-bfab-0333160491dd",
   "metadata": {},
   "outputs": [],
   "source": [
    "class MyCustomError(Exception):\n",
    "    def __init__(self, message):\n",
    "        self.message = message\n",
    "\n",
    "def some_function():\n",
    "    if some_condition:\n",
    "        raise MyCustomError(\"An error occurred due to some_condition.\")\n"
   ]
  },
  {
   "cell_type": "markdown",
   "id": "476cd226-0522-4b4e-89f8-ac0f60940b75",
   "metadata": {},
   "source": [
    "3.Propagating exceptions: In some cases, we might want to catch an exception, perform some specific actions, and then re-raise the exception to let it propagate up the call stack. This can be useful for higher-level error handling."
   ]
  },
  {
   "cell_type": "code",
   "execution_count": null,
   "id": "6cbad3af-50b2-4793-8145-2e0540615e80",
   "metadata": {},
   "outputs": [],
   "source": [
    "def handle_exception():\n",
    "    try:\n",
    "        # Code that may raise an exception\n",
    "        result = 10 / 0\n",
    "    except ZeroDivisionError as e:\n",
    "        # Handle the exception\n",
    "        print(\"An error occurred:\", e)\n",
    "        raise  # Re-raise the same exception\n"
   ]
  },
  {
   "cell_type": "markdown",
   "id": "afdd8443-ad71-47ef-9273-d70e61f4eadb",
   "metadata": {},
   "source": [
    "Q4. What does the assert statement do, and what other statement is it like?"
   ]
  },
  {
   "cell_type": "markdown",
   "id": "16021a3f-7c8e-4323-91c0-7b547c14a8c2",
   "metadata": {},
   "source": [
    "The assert statement in programming is used to test whether a given expression or condition is True. If the expression is True, the program continues execution as normal. If the expression is False, the assert statement raises an AssertionError exception, effectively halting the program's execution. The primary purpose of the assert statement is to perform debugging checks and ensure that specific conditions or assumptions in our code are met.\n",
    "\n",
    "The assert statement is similar to the if statement, particularly in how it evaluates conditions. However, there is a key difference:\n",
    "\n",
    "assert is typically used for debugging and testing, and it's intended to be disabled in production code. It's a way to catch and identify logical errors and violations of assumptions during development and testing.\n",
    "\n",
    "if is used for conditional branching in our program. It allows us to execute different blocks of code based on the result of a condition.\n"
   ]
  },
  {
   "cell_type": "code",
   "execution_count": 6,
   "id": "568e44a5-0661-4559-820a-b4bb14420915",
   "metadata": {},
   "outputs": [
    {
     "ename": "AssertionError",
     "evalue": "Division by zero is not allowed.",
     "output_type": "error",
     "traceback": [
      "\u001b[0;31m---------------------------------------------------------------------------\u001b[0m",
      "\u001b[0;31mAssertionError\u001b[0m                            Traceback (most recent call last)",
      "Cell \u001b[0;32mIn [6], line 6\u001b[0m\n\u001b[1;32m      3\u001b[0m     \u001b[38;5;28;01mreturn\u001b[39;00m a \u001b[38;5;241m/\u001b[39m b\n\u001b[1;32m      5\u001b[0m result \u001b[38;5;241m=\u001b[39m divide(\u001b[38;5;241m10\u001b[39m, \u001b[38;5;241m2\u001b[39m)  \u001b[38;5;66;03m# This will execute without errors.\u001b[39;00m\n\u001b[0;32m----> 6\u001b[0m result \u001b[38;5;241m=\u001b[39m \u001b[43mdivide\u001b[49m\u001b[43m(\u001b[49m\u001b[38;5;241;43m10\u001b[39;49m\u001b[43m,\u001b[49m\u001b[43m \u001b[49m\u001b[38;5;241;43m0\u001b[39;49m\u001b[43m)\u001b[49m\n",
      "Cell \u001b[0;32mIn [6], line 2\u001b[0m, in \u001b[0;36mdivide\u001b[0;34m(a, b)\u001b[0m\n\u001b[1;32m      1\u001b[0m \u001b[38;5;28;01mdef\u001b[39;00m \u001b[38;5;21mdivide\u001b[39m(a, b):\n\u001b[0;32m----> 2\u001b[0m     \u001b[38;5;28;01massert\u001b[39;00m b \u001b[38;5;241m!=\u001b[39m \u001b[38;5;241m0\u001b[39m, \u001b[38;5;124m\"\u001b[39m\u001b[38;5;124mDivision by zero is not allowed.\u001b[39m\u001b[38;5;124m\"\u001b[39m\n\u001b[1;32m      3\u001b[0m     \u001b[38;5;28;01mreturn\u001b[39;00m a \u001b[38;5;241m/\u001b[39m b\n",
      "\u001b[0;31mAssertionError\u001b[0m: Division by zero is not allowed."
     ]
    }
   ],
   "source": [
    "def divide(a, b):\n",
    "    assert b != 0, \"Division by zero is not allowed.\"\n",
    "    return a / b\n",
    "\n",
    "result = divide(10, 2)  # This will execute without errors.\n",
    "result = divide(10, 0)  # This will raise an AssertionError."
   ]
  },
  {
   "cell_type": "markdown",
   "id": "5f32b80b-ee6e-4d37-89a4-d994ba21c117",
   "metadata": {},
   "source": [
    "Other similar statements include:\n",
    "\n",
    "1.if statements: We can use if statements to check conditions and take specific actions based on whether the condition is True or False. Unlike assert, if statements are not meant for debugging purposes but for making decisions and controlling the flow of our program.\n",
    "\n",
    "2.raise statements: While assert is used for debugging and checking assumptions, the raise statement is used to intentionally raise exceptions based on specific conditions. It's used for error handling and is not primarily a debugging tool."
   ]
  },
  {
   "cell_type": "markdown",
   "id": "b866b449-39ac-4ec0-ab6d-47355d31dcb4",
   "metadata": {},
   "source": [
    "Q5.What is the purpose of the with/as argument, and what other statement is it like?"
   ]
  },
  {
   "cell_type": "markdown",
   "id": "d4ef779e-b704-4969-8cad-79a64e3b5348",
   "metadata": {},
   "source": [
    "The with/as statement is often used in the context of context managers, which are objects that define the methods __enter__() and __exit__() and are used to set up and tear down resources. Here's how it works:\n",
    "\n",
    "Setup with with: The with statement is used to set up a context, and the as keyword allows us to assign a name to the context manager. For example, when working with files, it's common to use the with statement to open and automatically close the file:"
   ]
  },
  {
   "cell_type": "code",
   "execution_count": null,
   "id": "44d7cdfe-5d29-4d7e-a832-4a1238a48ea8",
   "metadata": {},
   "outputs": [],
   "source": [
    "with open(\"example.txt\", \"r\") as file:\n",
    "    data = file.read()\n",
    "# File is automatically closed when the block exits\n"
   ]
  },
  {
   "cell_type": "markdown",
   "id": "0630607d-04ef-44e0-89d9-caf37aafaa66",
   "metadata": {},
   "source": [
    "Cleanup with __exit__() method: The context manager defines an __enter__() method to set up resources and an __exit__() method to handle cleanup actions. The __exit__() method is called when the with block exits, regardless of whether an exception occurred. This ensures that resources are properly released or cleaned up.\n",
    "\n",
    "The with/as statement is somewhat similar in purpose to error handling constructs like try/finally. The primary difference is that with/as is designed for resource management and simplifying common resource-related patterns, whereas try/finally is used for general error handling and cleanup.\n",
    "\n",
    "Here's an example illustrating the difference between with/as and try/finally:\n",
    "\n",
    "Using with/as for file handling:"
   ]
  },
  {
   "cell_type": "code",
   "execution_count": null,
   "id": "35251f9e-20f9-464c-99cd-4026860c85f9",
   "metadata": {},
   "outputs": [],
   "source": [
    "with open(\"example.txt\", \"r\") as file:\n",
    "    data = file.read()\n",
    "# File is automatically closed even if an exception occurs\n"
   ]
  },
  {
   "cell_type": "markdown",
   "id": "124198d7-d854-4742-ac80-d33cddcd94a4",
   "metadata": {},
   "source": [
    "Using try/finally for file handling:"
   ]
  },
  {
   "cell_type": "code",
   "execution_count": null,
   "id": "9cf81fea-9d20-4441-9613-dbe2f0e3789d",
   "metadata": {},
   "outputs": [],
   "source": [
    "file = open(\"example.txt\", \"r\")\n",
    "try:\n",
    "    data = file.read()\n",
    "finally:\n",
    "    file.close()\n",
    "# File is explicitly closed in the finally block\n"
   ]
  },
  {
   "cell_type": "markdown",
   "id": "8168ebb3-8904-4ace-8390-e5b322fdf9cf",
   "metadata": {},
   "source": [
    "Both constructs serve to ensure proper cleanup of resources, but with/as is often preferred for its conciseness and readability, especially when dealing with complex resource management scenarios."
   ]
  }
 ],
 "metadata": {
  "kernelspec": {
   "display_name": "Python 3 (ipykernel)",
   "language": "python",
   "name": "python3"
  },
  "language_info": {
   "codemirror_mode": {
    "name": "ipython",
    "version": 3
   },
   "file_extension": ".py",
   "mimetype": "text/x-python",
   "name": "python",
   "nbconvert_exporter": "python",
   "pygments_lexer": "ipython3",
   "version": "3.10.6"
  }
 },
 "nbformat": 4,
 "nbformat_minor": 5
}
