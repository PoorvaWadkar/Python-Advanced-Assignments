{
 "cells": [
  {
   "cell_type": "markdown",
   "id": "9ff7f1d0-920a-44f1-91e2-c7a9879756f8",
   "metadata": {},
   "source": [
    "Q1. What are the two latest user-defined exception constraints in Python 3.X?"
   ]
  },
  {
   "cell_type": "markdown",
   "id": "84289d74-7e0b-4fcb-b190-5d9ef8aebe4e",
   "metadata": {},
   "source": [
    "raise and assert are the two latest user-defined exception constraints in Python 3.X"
   ]
  },
  {
   "cell_type": "markdown",
   "id": "b1bc777d-f85b-441d-bcb0-c48b90e1aece",
   "metadata": {},
   "source": [
    "Q2. How are class-based exceptions that have been raised matched to handlers?"
   ]
  },
  {
   "cell_type": "markdown",
   "id": "99052c61-70fb-4ab2-a667-d622e1e34afe",
   "metadata": {},
   "source": [
    "In Python, users can define custom exceptions by creating new classes that are derived, either directly or indirectly, from the built-in Exception class or one of its subclasses. This allows us to create our own exception types tailored to specific situations in our code. Custom exceptions are useful for improving code readability and handling specific error conditions.\n",
    "\n",
    "Here's an example of how we can define a custom exception class:"
   ]
  },
  {
   "cell_type": "code",
   "execution_count": 3,
   "id": "a95bfe23-faec-460b-93a2-add1596e22e2",
   "metadata": {},
   "outputs": [
    {
     "name": "stdout",
     "output_type": "stream",
     "text": [
      "Caught an exception: This is a custom error message\n"
     ]
    }
   ],
   "source": [
    "class MyCustomException(Exception):\n",
    "    def __init__(self, message=\"A custom exception occurred\"):\n",
    "        self.message = message\n",
    "        super().__init__(self.message)\n",
    "\n",
    "# Raise the custom exception with a specific error message\n",
    "try:\n",
    "    raise MyCustomException(\"This is a custom error message\")\n",
    "except MyCustomException as e:\n",
    "    print(f\"Caught an exception: {e}\")\n"
   ]
  },
  {
   "cell_type": "markdown",
   "id": "d344dc2b-8e74-4b7d-8cd2-e0352e84abd1",
   "metadata": {},
   "source": [
    "In this example, MyCustomException is a custom exception class derived from the built-in Exception class. It has an optional constructor that allows us to provide a custom error message when raising the exception. We can raise this custom exception using the raise statement, and we can catch it just like any other exception.\n",
    "\n",
    "Custom exceptions are valuable for making our code more organized and easier to maintain, as they provide a clear and structured way to handle specific error scenarios in your application."
   ]
  },
  {
   "cell_type": "markdown",
   "id": "9c6b8336-5ef4-41af-a84e-b52405d431d5",
   "metadata": {},
   "source": [
    "Q3. Describe two methods for attaching context information to exception artefacts."
   ]
  },
  {
   "cell_type": "markdown",
   "id": "29babaac-0e47-4e90-a89a-c73787877cf0",
   "metadata": {},
   "source": [
    "When dealing with exceptions in software development, it's important to include context information to help with debugging and diagnosing issues. There are various methods for attaching context information to exception artifacts. Here are two common approaches:\n",
    "\n",
    "1.Custom Exception Classes:\n",
    "\n",
    "One way to include context information with exceptions is by creating custom exception classes that inherit from built-in exception classes (e.g., Exception, RuntimeException, or language-specific exceptions like IOException in Java). These custom exception classes can include additional fields or properties to hold context information. For example, we might create a custom DatabaseConnectionException that includes details about the database connection, such as the database URL, username, and relevant error messages."
   ]
  },
  {
   "cell_type": "code",
   "execution_count": null,
   "id": "cf080f37-c39b-4543-aad6-6f9180a7f122",
   "metadata": {},
   "outputs": [],
   "source": [
    "class DatabaseConnectionException(Exception):\n",
    "    def __init__(self, db_url, username, message):\n",
    "        self.db_url = db_url\n",
    "        self.username = username\n",
    "        self.message = message\n",
    "        super().__init__(message)\n"
   ]
  },
  {
   "cell_type": "markdown",
   "id": "6e771a39-c3da-4e66-8496-2aa1ff3db8d9",
   "metadata": {},
   "source": [
    "By extending the exception class and adding custom fields, we can provide more specific context information when an exception is raised, making it easier to diagnose and handle the error."
   ]
  },
  {
   "cell_type": "markdown",
   "id": "e40734c8-8877-4eb3-9860-efd58c8a705e",
   "metadata": {},
   "source": [
    "2.Exception Wrapping:\n",
    "\n",
    "Another method is to wrap exceptions in a higher-level exception that carries additional context information. This is especially useful when we want to capture and convey context information without modifying existing exception classes. The wrapped exception becomes a cause for the higher-level exception.\n",
    "\n",
    "In Python, for instance, we can use the from keyword to wrap an exception and provide additional information:"
   ]
  },
  {
   "cell_type": "code",
   "execution_count": null,
   "id": "c3e43777-2842-4aa6-a9ec-7a1c4953b041",
   "metadata": {},
   "outputs": [],
   "source": [
    "try:\n",
    "    # Code that may raise a lower-level exception\n",
    "except LowerLevelException as e:\n",
    "    # Add context information and re-raise as a higher-level exception\n",
    "    raise HigherLevelException(\"An error occurred in a database operation\", cause=e)\n"
   ]
  },
  {
   "cell_type": "markdown",
   "id": "0384676a-9124-4d76-a5ef-37a505b3f587",
   "metadata": {},
   "source": [
    "This approach allows you to preserve the original exception details while adding context-specific information about the higher-level operation."
   ]
  },
  {
   "cell_type": "markdown",
   "id": "144df81b-35e0-4e76-9528-75b8d5f3eed8",
   "metadata": {},
   "source": [
    "Q4. Describe two methods for specifying the text of an exception object's error message."
   ]
  },
  {
   "cell_type": "markdown",
   "id": "c1d57ccd-dfc3-4e7f-b698-148c54c5abbf",
   "metadata": {},
   "source": [
    "When creating an exception object, we often want to provide a clear and informative error message that describes the reason for the exception. Here are two common methods for specifying the text of an exception object's error message:\n",
    "\n",
    "1.Constructor Parameter:\n",
    "\n",
    "One of the most common methods is to provide the error message as an argument to the constructor when creating the exception object. Many programming languages allows us to pass a string or message parameter to the exception class constructor. The exception class can then store this message for later retrieval.\n",
    "\n",
    "For example, in Python, we can create a custom exception class with a constructor that takes an error message as an argument:"
   ]
  },
  {
   "cell_type": "code",
   "execution_count": null,
   "id": "6e86545b-ead6-4008-8353-5bcec71273f1",
   "metadata": {},
   "outputs": [],
   "source": [
    "class CustomException(Exception):\n",
    "    def __init__(self, message):\n",
    "        super().__init__(message)\n"
   ]
  },
  {
   "cell_type": "markdown",
   "id": "60817fa8-a594-4e90-a539-a5615c0e260a",
   "metadata": {},
   "source": [
    "You can raise this exception with a specific error message like this:"
   ]
  },
  {
   "cell_type": "code",
   "execution_count": null,
   "id": "3e4f9054-5c38-445e-b145-dd960f84a07f",
   "metadata": {},
   "outputs": [],
   "source": [
    "raise CustomException(\"This is a custom exception message\")\n"
   ]
  },
  {
   "cell_type": "markdown",
   "id": "cfed01d1-c60d-4ca3-8c12-554afc2a4df5",
   "metadata": {},
   "source": [
    "By providing the error message during exception instantiation, we can customize the message to be as descriptive as necessary for the specific situation."
   ]
  },
  {
   "cell_type": "markdown",
   "id": "0651fac4-ea17-4ea9-abd1-6558fb74058d",
   "metadata": {},
   "source": [
    "2.Subclassing with Hardcoded Messages:\n",
    "\n",
    "Another method is to create custom exception classes for specific error conditions and hardcode the error messages within those classes. This is particularly useful when we have predefined error scenarios that do not require dynamic or variable error messages.\n",
    "\n",
    "For example, we can create custom exception classes with pre-defined error messages in Python:"
   ]
  },
  {
   "cell_type": "code",
   "execution_count": null,
   "id": "1a992ee0-2903-499f-b308-e5c5386508fd",
   "metadata": {},
   "outputs": [],
   "source": [
    "class FileReadError(Exception):\n",
    "    pass\n",
    "\n",
    "class FileNotFoundError(FileReadError):\n",
    "    def __init__(self, file_path):\n",
    "        super().__init__(f\"File not found: {file_path}\")\n",
    "\n",
    "class FileAccessDeniedError(FileReadError):\n",
    "    def __init__(self, file_path):\n",
    "        super().__init__(f\"Access denied to file: {file_path}\")\n"
   ]
  },
  {
   "cell_type": "markdown",
   "id": "596c25a9-4984-4f30-9e24-6951b1a388b4",
   "metadata": {},
   "source": [
    "When raising these exceptions, we don't need to pass a message explicitly, as the message is already defined within the exception class:"
   ]
  },
  {
   "cell_type": "code",
   "execution_count": null,
   "id": "09855844-5be1-476c-8aeb-e5a290a59cdf",
   "metadata": {},
   "outputs": [],
   "source": [
    "try:\n",
    "    # Code that may raise exceptions\n",
    "except FileNotFoundError as e:\n",
    "    print(e)  # The error message is already defined in the exception class\n"
   ]
  },
  {
   "cell_type": "markdown",
   "id": "dcbfbe17-2bde-4b38-8dd1-c2096733b739",
   "metadata": {},
   "source": [
    "Q5. Why do you no longer use string-based exceptions?"
   ]
  },
  {
   "cell_type": "markdown",
   "id": "9a5e185b-619c-464a-9de7-8444e43168b5",
   "metadata": {},
   "source": [
    "While string-based exceptions may have been used in the past, they are generally discouraged today in favor of using custom exception classes with clear exception hierarchies and meaningful error messages. These practices lead to more robust, maintainable, and understandable code. However, the choice of exception handling techniques may vary depending on the programming language and the specific requirements of a project."
   ]
  }
 ],
 "metadata": {
  "kernelspec": {
   "display_name": "Python 3 (ipykernel)",
   "language": "python",
   "name": "python3"
  },
  "language_info": {
   "codemirror_mode": {
    "name": "ipython",
    "version": 3
   },
   "file_extension": ".py",
   "mimetype": "text/x-python",
   "name": "python",
   "nbconvert_exporter": "python",
   "pygments_lexer": "ipython3",
   "version": "3.10.6"
  }
 },
 "nbformat": 4,
 "nbformat_minor": 5
}
