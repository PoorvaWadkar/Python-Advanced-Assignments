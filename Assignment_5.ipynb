{
 "cells": [
  {
   "cell_type": "markdown",
   "id": "b82112c4-496d-4462-8e39-2b635cde9632",
   "metadata": {},
   "source": [
    "Q1. What is the meaning of multiple inheritance?"
   ]
  },
  {
   "cell_type": "markdown",
   "id": "87edafc5-54f5-41d2-bb93-41591aa9fc43",
   "metadata": {},
   "source": [
    "Multiple inheritance is a concept in object-oriented programming that allows a class to inherit attributes and behaviors from more than one parent class. \n",
    "\n",
    "In languages that support multiple inheritance, a class can extend or inherit from two or more other classes. This can be a powerful feature because it allows us to create more complex and specialized classes by combining the features of multiple base classes. "
   ]
  },
  {
   "cell_type": "code",
   "execution_count": 1,
   "id": "3470c0cc-6cac-40fb-afb3-4e9a474f0e1c",
   "metadata": {},
   "outputs": [
    {
     "name": "stdout",
     "output_type": "stream",
     "text": [
      "Method 1 from Parent1\n",
      "Method 2 from Parent2\n"
     ]
    }
   ],
   "source": [
    "class Parent1:\n",
    "    def method1(self):\n",
    "        print(\"Method 1 from Parent1\")\n",
    "\n",
    "class Parent2:\n",
    "    def method2(self):\n",
    "        print(\"Method 2 from Parent2\")\n",
    "\n",
    "class Child(Parent1, Parent2):\n",
    "    pass\n",
    "\n",
    "# Create an instance of the Child class\n",
    "child_instance = Child()\n",
    "\n",
    "# Call methods inherited from Parent1 and Parent2\n",
    "child_instance.method1()  # Output: Method 1 from Parent1\n",
    "child_instance.method2()  # Output: Method 2 from Parent2"
   ]
  },
  {
   "cell_type": "markdown",
   "id": "d980db5b-b8c2-4df6-b1f8-5beb9dbe9138",
   "metadata": {},
   "source": [
    "Q2. What is the concept of delegation?"
   ]
  },
  {
   "cell_type": "markdown",
   "id": "cad0f8bf-b072-416f-9bcc-79dc295ac520",
   "metadata": {},
   "source": [
    "Delegation is a design pattern and a concept in object-oriented programming where one object (the delegate) passes on a specific responsibility or task to another object. Instead of handling the task itself, the delegate assigns it to another object that is better suited to perform the task. Delegation is a way to achieve code reuse and promote modular, maintainable, and loosely coupled code.\n",
    "\n",
    "1.Separation of Concerns: Delegation helps to separate different concerns or responsibilities within a program. Instead of a single object trying to do everything, different objects can handle specific tasks or functionality.\n",
    "\n",
    "2.Code Reuse: Delegation allows you to reuse existing code by assigning specific tasks to objects that are designed to handle them. This promotes a more modular and efficient codebase.\n",
    "\n",
    "3.Encapsulation: Delegation helps encapsulate behavior within objects. Each object is responsible for its specific area of expertise, which makes the code easier to understand and maintain.\n",
    "\n",
    "4.Loose Coupling: Objects involved in delegation are loosely coupled, meaning they are not tightly dependent on each other. This enhances flexibility and makes it easier to modify or extend the system without affecting unrelated parts.\n",
    "\n",
    "5.Complex Behavior: Delegation can be used to build complex behaviors by composing multiple objects with distinct responsibilities. Each object contributes to the overall functionality, making it easier to manage and test individual components.\n",
    "\n",
    "class Calculator:\n",
    "\n",
    "    def add(self, a, b):\n",
    "        return a + b\n",
    "\n",
    "class CalculatorUser:\n",
    "\n",
    "    def __init__(self, calculator):\n",
    "        self.calculator = calculator\n",
    "\n",
    "    def calculate(self, a, b):\n",
    "        result = self.calculator.add(a, b)\n",
    "        return result\n",
    "\n",
    "# Create a Calculator instance\n",
    "calculator = Calculator()\n",
    "\n",
    "# Create a CalculatorUser instance that delegates calculations to the Calculator\n",
    "user = CalculatorUser(calculator)\n",
    "\n",
    "# Use the CalculatorUser to perform a calculation\n",
    "result = user.calculate(5, 3)\n",
    "print(result)  # Output: 8"
   ]
  },
  {
   "cell_type": "markdown",
   "id": "13415b24-10f4-4372-a6c5-d8edafef38d9",
   "metadata": {},
   "source": [
    "Q3. What is the concept of composition?"
   ]
  },
  {
   "cell_type": "markdown",
   "id": "5caec031-140d-4bba-aa12-1171db0bc492",
   "metadata": {},
   "source": [
    "Composition is a fundamental concept in object-oriented programming where objects are combined or composed to create more complex objects. Instead of inheriting or extending the behavior of existing classes, composition involves creating new objects by assembling or aggregating existing objects as parts or components.\n",
    "\n",
    "1.Building Blocks: In composition, objects are treated as building blocks, and complex objects are constructed by combining simpler objects. These simpler objects are typically instances of other classes.\n",
    "\n",
    "2.Flexibility: Composition allows for more flexibility and reusability in your code compared to inheritance. You can mix and match components to create different composite objects, which is especially useful when you have a wide variety of component classes.\n",
    "\n",
    "3.Encapsulation: Composition promotes encapsulation because each component object encapsulates its behavior and state. The composite object then uses these components without exposing their internal details.\n",
    "\n",
    "4.Loose Coupling: Composite objects and their components are loosely coupled. Changes to one component do not necessarily affect other components or the composite object itself, making it easier to maintain and extend the system.\n",
    "\n",
    "5.Has-A Relationship: Composition models a \"has-a\" relationship between objects. For example, if a car \"has\" an engine, you can represent this relationship through composition by creating a car object that contains an engine object as one of its components."
   ]
  },
  {
   "cell_type": "code",
   "execution_count": 2,
   "id": "26a8c125-c4f2-44c6-aaf0-1cdb8da431c6",
   "metadata": {},
   "outputs": [
    {
     "name": "stdout",
     "output_type": "stream",
     "text": [
      "Car started\n",
      "Engine started\n",
      "Car stopped\n",
      "Engine stopped\n"
     ]
    }
   ],
   "source": [
    "class Engine:\n",
    "    def start(self):\n",
    "        print(\"Engine started\")\n",
    "\n",
    "    def stop(self):\n",
    "        print(\"Engine stopped\")\n",
    "\n",
    "class Car:\n",
    "    def __init__(self):\n",
    "        self.engine = Engine()  # Create an Engine instance as a component of the Car\n",
    "\n",
    "    def start(self):\n",
    "        print(\"Car started\")\n",
    "        self.engine.start()  # Delegate starting to the Engine\n",
    "\n",
    "    def stop(self):\n",
    "        print(\"Car stopped\")\n",
    "        self.engine.stop()  # Delegate stopping to the Engine\n",
    "\n",
    "# Create a Car instance\n",
    "my_car = Car()\n",
    "\n",
    "# Start and stop the Car, which delegates to the Engine\n",
    "my_car.start()\n",
    "my_car.stop()"
   ]
  },
  {
   "cell_type": "markdown",
   "id": "037cdf5a-6201-4b38-b5fb-7df475be2bfd",
   "metadata": {},
   "source": [
    "Q4. What are bound methods and how do we use them?"
   ]
  },
  {
   "cell_type": "markdown",
   "id": "88a69362-8ccc-46c6-ab18-a959b8f55f0c",
   "metadata": {},
   "source": [
    "In Python, a bound method is a method that is associated with an instance of a class. When we access a method through an instance of the class, it becomes a bound method because it is bound to that specific instance. Bound methods automatically take the instance as their first argument (usually named 'self'), allowing them to access and manipulate the instance's attributes and data.\n",
    "\n",
    "1.Defining Bound Methods:\n",
    "\n",
    "   To create a bound method, we define a method within a class and include the 'self' parameter as its first argument. The 'self' parameter refers to the instance of the class, and it allows us to access the instance's attributes and perform operations on it.\n",
    "\n",
    "2.Using Bound Methods:\n",
    "\n",
    "   To use a bound method, we create an instance of the class and then call the method on that instance."
   ]
  },
  {
   "cell_type": "code",
   "execution_count": 8,
   "id": "695190be-9214-4d03-b192-e50dae115a3f",
   "metadata": {},
   "outputs": [
    {
     "name": "stdout",
     "output_type": "stream",
     "text": [
      "42\n"
     ]
    }
   ],
   "source": [
    "class MyClass:\n",
    "       def __init__(self, value):\n",
    "            self.value = value\n",
    "            \n",
    "       def print_value(self):\n",
    "            print(self.value)\n",
    "            \n",
    "# Create an instance of MyClass\n",
    "obj = MyClass(42)\n",
    "\n",
    "# Call the bound method on the instance\n",
    "obj.print_value()  # Output: 42"
   ]
  },
  {
   "cell_type": "markdown",
   "id": "b0fc6d6b-0896-4080-97c7-4ac7582dbdfb",
   "metadata": {},
   "source": [
    "Q5. What is the purpose of pseudoprivate attributes?"
   ]
  },
  {
   "cell_type": "markdown",
   "id": "7b5cd954-ccde-4fb9-8b90-c393489e6766",
   "metadata": {},
   "source": [
    "In Python, \"pseudoprivate\" attributes, also sometimes referred to as \"name mangling,\" serve as a way to make instance variables more private and protect them from accidental modification or access from outside the class. While Python doesn't support true private variables, it offers a way to make attributes less accessible by using a name mangling mechanism.\n",
    "\n",
    "The purpose of pseudoprivate attributes is to provide a level of encapsulation and prevent unintentional clashes or modifications of instance variables in a class.\n",
    "\n",
    "1.Name Mangling: In Python, if an instance variable name starts with a double underscore ('__'), it gets name-mangled, which means Python internally changes its name to include the class name as a prefix. For example, '__my_var' in a class named 'MyClass' becomes '_MyClass__my_var'. This makes it harder to accidentally override or access the variable from outside the class.\n",
    "\n",
    "2.Preventing Accidental Modification: Pseudoprivate attributes are not truly private, but they discourage developers from directly accessing or modifying them. This encourages encapsulation and helps prevent unintentional interference with class internals.\n",
    "\n",
    "3.Avoiding Name Clashes: Name mangling reduces the risk of name clashes between instance variables in subclasses. If a subclass wants to use an attribute with the same name as a pseudoprivate attribute in its superclass, Python will mangle the name differently for each class."
   ]
  },
  {
   "cell_type": "code",
   "execution_count": 9,
   "id": "c66dc819-b9bd-470f-bb9c-8d888006ba91",
   "metadata": {},
   "outputs": [
    {
     "name": "stdout",
     "output_type": "stream",
     "text": [
      "42\n",
      "100\n"
     ]
    }
   ],
   "source": [
    "class MyClass:\n",
    "    def __init__(self):\n",
    "        self.__my_var = 42\n",
    "\n",
    "    def get_var(self):\n",
    "        return self.__my_var\n",
    "\n",
    "    def set_var(self, value):\n",
    "        self.__my_var = value\n",
    "\n",
    "# Create an instance of MyClass\n",
    "obj = MyClass()\n",
    "\n",
    "# Access the pseudoprivate attribute using methods\n",
    "print(obj.get_var())  # Output: 42\n",
    "\n",
    "# Attempting to access the attribute directly raises an error\n",
    "# print(obj.__my_var)  # This would raise an AttributeError\n",
    "\n",
    "# Modify the attribute using methods\n",
    "obj.set_var(100)\n",
    "print(obj.get_var())  # Output: 100"
   ]
  }
 ],
 "metadata": {
  "kernelspec": {
   "display_name": "Python 3 (ipykernel)",
   "language": "python",
   "name": "python3"
  },
  "language_info": {
   "codemirror_mode": {
    "name": "ipython",
    "version": 3
   },
   "file_extension": ".py",
   "mimetype": "text/x-python",
   "name": "python",
   "nbconvert_exporter": "python",
   "pygments_lexer": "ipython3",
   "version": "3.10.6"
  }
 },
 "nbformat": 4,
 "nbformat_minor": 5
}
