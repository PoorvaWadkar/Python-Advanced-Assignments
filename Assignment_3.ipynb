{
 "cells": [
  {
   "cell_type": "markdown",
   "id": "a9a4e0c4-ca2b-4655-b495-4d1a87c54906",
   "metadata": {},
   "source": [
    "1.What is the concept of an abstract superclass?"
   ]
  },
  {
   "cell_type": "markdown",
   "id": "a13d9c8a-2a11-4645-903f-2789bb298cbf",
   "metadata": {},
   "source": [
    "An abstract superclass, also known as an \"abstract class,\" is a class in object-oriented programming that cannot be instantiated on its own. Abstract classes often define a set of common methods that must be implemented by their subclasses. Abstract classes are used to create a common interface and share common functionality among related classes.\n",
    "\n",
    "In Python, we can create an abstract class using the 'abc' module. To define an abstract class 'ABC' metaclass is used and the '@abstractmethod' decorator to specify which methods must be implemented by its subclasses. "
   ]
  },
  {
   "cell_type": "code",
   "execution_count": 11,
   "id": "91aa32f7-ec87-40ec-97d4-57247e563b09",
   "metadata": {},
   "outputs": [
    {
     "name": "stdout",
     "output_type": "stream",
     "text": [
      "Circle Area: 78.5\n",
      "Rectangle Area: 24\n"
     ]
    }
   ],
   "source": [
    "from abc import ABC, abstractmethod\n",
    "\n",
    "# Define an abstract superclass\n",
    "class Shape(ABC):\n",
    "    @abstractmethod\n",
    "    def calculate_area(self):\n",
    "        pass\n",
    "\n",
    "\n",
    "# Create subclasses that inherit from Shape\n",
    "class Circle(Shape):\n",
    "    def __init__(self, radius):\n",
    "        self.radius = radius\n",
    "\n",
    "    def calculate_area(self):\n",
    "        return 3.14 * self.radius * self.radius\n",
    "\n",
    "class Rectangle(Shape):\n",
    "    def __init__(self, length, width):\n",
    "        self.length = length\n",
    "        self.width = width\n",
    "\n",
    "    def calculate_area(self):\n",
    "        return self.length * self.width\n",
    "\n",
    "# Create instances of the subclasses\n",
    "circle = Circle(5)\n",
    "rectangle = Rectangle(4, 6)\n",
    "\n",
    "# Calculate and print areas and perimeters\n",
    "print(\"Circle Area:\", circle.calculate_area())\n",
    "\n",
    "print(\"Rectangle Area:\", rectangle.calculate_area())"
   ]
  },
  {
   "cell_type": "markdown",
   "id": "538e34b7-1b97-40e4-80bd-27e209f7de5b",
   "metadata": {},
   "source": [
    "2.What happens when a class statement's top level contains a basic assignment statement?"
   ]
  },
  {
   "cell_type": "markdown",
   "id": "9c10410e-75d6-47be-b3ba-60264f7ac926",
   "metadata": {},
   "source": [
    "When a class statement's top level contains a basic assignment statement (assigning a value to a variable) in most programming languages, it typically results in the creation of a class-level variable or a static variable. Class-level variables are associated with the class itself rather than with instances (objects) of the class. \n",
    "\n",
    "1.Class-Level Variable: The assignment statement at the top level of a class typically declares and initializes a class-level variable, also known as a static variable. Class-level variables are shared among all instances of the class.\n",
    "\n",
    "2.Shared Data: When we modify a class-level variable through an instance, Python creates an instance-specific variable with the same name for that particular instance. This instance-specific variable shadows the class-level variable for that instance, and changes to it do not affect other instances or the shared class-level variable. "
   ]
  },
  {
   "cell_type": "code",
   "execution_count": 15,
   "id": "8c3bf50b-14d2-4bef-ad09-bcd379bcd60a",
   "metadata": {},
   "outputs": [
    {
     "name": "stdout",
     "output_type": "stream",
     "text": [
      "42\n",
      "42\n",
      "42\n",
      "100\n",
      "42\n"
     ]
    }
   ],
   "source": [
    "class MyClass:\n",
    "    class_var = 42  # This is a class-level variable\n",
    "\n",
    "# Accessing the class-level variable\n",
    "print(MyClass.class_var)  # Output: 42\n",
    "\n",
    "# Creating instances of MyClass\n",
    "obj1 = MyClass()\n",
    "obj2 = MyClass()\n",
    "\n",
    "# Accessing the class-level variable through instances\n",
    "print(obj1.class_var)  # Output: 42\n",
    "print(obj2.class_var)  # Output: 42\n",
    "\n",
    "# Modifying the class-level variable through one instance\n",
    "obj1.class_var = 100\n",
    "\n",
    "# Now, the instance has its own \"class_var\" attribute\n",
    "print(obj1.class_var)  # Output: 100\n",
    "print(obj2.class_var)  # Output: 42 (unchanged for other instances)"
   ]
  },
  {
   "cell_type": "markdown",
   "id": "923b72b5-bb8a-46bb-b213-a1974e14331c",
   "metadata": {},
   "source": [
    "3.Why does a class need to manually call a superclass's __init__ method?"
   ]
  },
  {
   "cell_type": "markdown",
   "id": "8fb9ec8b-1856-4704-a506-40ea95d15c63",
   "metadata": {},
   "source": [
    "In object-oriented programming, we create a subclass , there are situations where we may need to manually call the superclass's '__init__' method. This is typically necessary to ensure that the initialization logic of both the subclass and the superclass is properly executed. \n",
    "\n",
    "1.Inheritance of Initialization Logic: When a subclass is created, it inherits the attributes and methods of its superclass. This includes the constructor ('__init__') of the superclass. If the superclass has specific initialization logic that sets up its attributes or performs certain actions when an object is created, this logic will not be automatically executed when we create an instance of the subclass.\n",
    "\n",
    "2.Extending Initialization Logic: In many cases, when we create a subclass, we want to add or extend the initialization logic of the superclass. This means that we want to execute both the superclass's initialization code and the additional code specific to the subclass. By manually calling the superclass's '__init__' method within the subclass's '__init__' method, we can ensure that both sets of logic are executed in the correct order.\n",
    "\n",
    "3.Passing Arguments: If the superclass's constructor requires arguments, we need to pass those arguments explicitly when we call the superclass's '__init__'. Failure to do so will result in an error. This ensures that the superclass is properly initialized with the necessary data."
   ]
  },
  {
   "cell_type": "code",
   "execution_count": 18,
   "id": "8a5f0481-0d69-4f8b-9a59-e950562340a2",
   "metadata": {},
   "outputs": [
    {
     "name": "stdout",
     "output_type": "stream",
     "text": [
      "Buddy\n",
      "Golden Retriever\n"
     ]
    }
   ],
   "source": [
    "class Animal:\n",
    "    def __init__(self, name):\n",
    "        self.name = name\n",
    "\n",
    "class Dog(Animal):\n",
    "    def __init__(self, name, breed):\n",
    "        # Manually call the superclass's constructor to initialize 'name'\n",
    "        super().__init__(name)\n",
    "        self.breed = breed\n",
    "\n",
    "# Creating an instance of Dog\n",
    "my_dog = Dog(\"Buddy\", \"Golden Retriever\")\n",
    "\n",
    "print(my_dog.name)  # Output: Buddy\n",
    "print(my_dog.breed)  # Output: Golden Retriever"
   ]
  },
  {
   "cell_type": "markdown",
   "id": "f2ae43ae-3d8f-4f04-9f36-c6563accae49",
   "metadata": {},
   "source": [
    "4.How can you augment, instead of completely replacing, an inherited method?"
   ]
  },
  {
   "cell_type": "markdown",
   "id": "27811581-71b5-4dc8-a6e0-1e03182d3e97",
   "metadata": {},
   "source": [
    "To augment (modify or extend) an inherited method without completely replacing it in object-oriented programming, we can use method overriding. Method overriding allows a subclass to provide its own implementation for a method that is already defined in its superclass. \n",
    "\n",
    "1.Inheritance: Ensure that subclass properly inherits from the superclass, which includes inheriting the method we want to augment.\n",
    "\n",
    "2.Override the Method: In subclass, create a method with the same name and signature as the method we want to augment. This is called method overriding.\n",
    "\n",
    "3.Invoke the Superclass Method: Inside the overridden method in the subclass, we can invoke the superclass's version of the method using the 'super()' keyword. This allows us to execute the original behavior of the method from the superclass.\n",
    "\n",
    "4.Extend or Modify: After invoking the superclass method, we can add your own logic before or after the superclass method call to extend or modify its behavior."
   ]
  },
  {
   "cell_type": "code",
   "execution_count": 19,
   "id": "8dbff001-8f49-4e84-a7e6-e96652755009",
   "metadata": {},
   "outputs": [
    {
     "name": "stdout",
     "output_type": "stream",
     "text": [
      "Circle Area: 78.5\n",
      "Rectangle Area: 24\n"
     ]
    }
   ],
   "source": [
    "class Shape:\n",
    "    def area(self):\n",
    "        return 0\n",
    "\n",
    "class Circle(Shape):\n",
    "    def __init__(self, radius):\n",
    "        self.radius = radius\n",
    "\n",
    "    def area(self):\n",
    "        # First, invoke the superclass's 'area' method\n",
    "        original_area = super().area()\n",
    "        \n",
    "        # Add the area calculation for a circle\n",
    "        return 3.14 * self.radius * self.radius + original_area\n",
    "    \n",
    "class Rectangle(Shape):\n",
    "    def __init__(self, length, width):\n",
    "        self.length = length\n",
    "        self.width = width\n",
    "\n",
    "    def area(self):\n",
    "        # First, invoke the superclass's 'area' method\n",
    "        original_area = super().area()\n",
    "        \n",
    "        # Add the area calculation for a rectangle\n",
    "        return self.length * self.width + original_area\n",
    "\n",
    "# Creating instances\n",
    "circle = Circle(5)\n",
    "rectangle = Rectangle(4, 6)\n",
    "\n",
    "# Calculating and printing areas\n",
    "print(\"Circle Area:\", circle.area())  # Output: Circle Area: 78.5\n",
    "print(\"Rectangle Area:\", rectangle.area())  # Output: Rectangle Area: 24"
   ]
  },
  {
   "cell_type": "markdown",
   "id": "f47d4e0c-bb49-4944-81e4-fc686ddaac8f",
   "metadata": {},
   "source": [
    "5.How is the local scope of a class different from that of a function?"
   ]
  },
  {
   "cell_type": "markdown",
   "id": "3dabe8c0-7307-404d-bc9f-79acea43e626",
   "metadata": {},
   "source": [
    "1.Purpose and Usage:\n",
    "\n",
    "-Class Scope: The local scope of a class is associated with the attributes (variables) and methods of the class. It defines the attributes and methods that belong to instances (objects) of the class. Class-level variables and methods are accessible through the class itself and all its instances. The class scope is primarily used for defining the structure and behavior of objects.\n",
    "\n",
    "-Function Scope: The local scope of a function is associated with variables defined within the function. These variables are only accessible within the function in which they are defined. Functions are used to encapsulate a block of code, perform specific tasks, and return results.\n",
    "\n",
    "2.Lifetime:\n",
    "\n",
    "-Class Scope: Variables defined within the class scope typically have a longer lifetime. They exist as long as the class definition is loaded, and their values can be shared among all instances of the class.\n",
    "\n",
    "-Function Scope: Variables defined within the function scope have a shorter lifetime. They are created when the function is called and destroyed when the function exits. The values of function-local variables are not preserved between function calls.\n",
    "\n",
    "3.Access to Variables:\n",
    "\n",
    "-Class Scope: Class-level variables can often be accessed using the class name or through instances of the class. \n",
    "\n",
    "-Function Scope: Function-local variables can only be accessed within the function in which they are defined. \n",
    "\n",
    "4.Methods:\n",
    "\n",
    "-Class Scope: Methods defined within the class scope can access class-level variables and other methods of the class. They can also access instance-specific attributes using the 'self' reference.\n",
    "\n",
    "-Function Scope: Functions can only access variables defined within their own scope. "
   ]
  },
  {
   "cell_type": "code",
   "execution_count": 20,
   "id": "aa5bb5a2-35b7-476b-b4ff-28ac657a606f",
   "metadata": {},
   "outputs": [
    {
     "name": "stdout",
     "output_type": "stream",
     "text": [
      "Class Variable: 10\n",
      "Instance Method: 20\n",
      "Function: 50\n"
     ]
    }
   ],
   "source": [
    "class MyClass:\n",
    "    class_var = 10  # Class-level variable\n",
    "\n",
    "    def __init__(self, instance_var):\n",
    "        self.instance_var = instance_var  # Instance-specific attribute\n",
    "\n",
    "    def instance_method(self):\n",
    "        # Accessing instance-specific attribute\n",
    "        print(f\"Instance Method: {self.instance_var}\")\n",
    "\n",
    "def my_function(local_var):\n",
    "    # Accessing function-local variable\n",
    "    print(f\"Function: {local_var}\")\n",
    "\n",
    "# Creating instances of MyClass\n",
    "obj1 = MyClass(20)\n",
    "obj2 = MyClass(30)\n",
    "\n",
    "# Accessing class-level variable\n",
    "print(f\"Class Variable: {MyClass.class_var}\")\n",
    "\n",
    "# Accessing instance-specific attribute and calling the method\n",
    "obj1.instance_method()\n",
    "\n",
    "# Calling the function with a function-local variable\n",
    "my_function(50)"
   ]
  }
 ],
 "metadata": {
  "kernelspec": {
   "display_name": "Python 3 (ipykernel)",
   "language": "python",
   "name": "python3"
  },
  "language_info": {
   "codemirror_mode": {
    "name": "ipython",
    "version": 3
   },
   "file_extension": ".py",
   "mimetype": "text/x-python",
   "name": "python",
   "nbconvert_exporter": "python",
   "pygments_lexer": "ipython3",
   "version": "3.10.6"
  }
 },
 "nbformat": 4,
 "nbformat_minor": 5
}
